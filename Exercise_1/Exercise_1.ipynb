{
 "cells": [
  {
   "cell_type": "markdown",
   "metadata": {
    "deletable": false,
    "editable": false
   },
   "source": [
    "## High Level Computer Vision \n",
    "### Exercise 1: Image Filtering and Object Identification"
   ]
  },
  {
   "cell_type": "code",
   "execution_count": 1,
   "metadata": {},
   "outputs": [],
   "source": [
    "Name = \"Luisa Danalachi\"\n",
    "Matriculation_Number = \"7022909\""
   ]
  },
  {
   "cell_type": "code",
   "execution_count": 2,
   "metadata": {
    "deletable": false,
    "editable": false
   },
   "outputs": [],
   "source": [
    "import math\n",
    "import numpy as np\n",
    "import matplotlib.pyplot as plt\n",
    "from PIL import Image\n",
    "from scipy import signal\n",
    "from scipy.signal import convolve2d as conv2\n",
    "from numpy import histogram as hist "
   ]
  },
  {
   "cell_type": "markdown",
   "metadata": {
    "deletable": false,
    "editable": false
   },
   "source": [
    "In this exercise, you will first familiarise yourself with basic image filtering routines. In the second part, you will develop a simple image querying system that accepts a query image as input and then finds a set of similar images in the database. To compare images, you will implement some simple histogram-based distance functions and evaluate their performance in combination with different image representations."
   ]
  },
  {
   "cell_type": "markdown",
   "metadata": {
    "deletable": false,
    "editable": false
   },
   "source": [
    "### Question 1: Image Filtering (10 points)"
   ]
  },
  {
   "cell_type": "markdown",
   "metadata": {
    "deletable": false,
    "editable": false
   },
   "source": [
    "**Q1.1** Implement a method that computes the values of a 1-D Gaussian for a given variance $\\sigma^2$. The method should also give a vector of values on which the Gaussian filter is defined: integer values on the interval $[-3\\sigma,3\\sigma]$.\n",
    "  \\begin{equation}\n",
    "    G=\\frac{1}{\\sqrt{2\\pi}\\sigma}\\exp(-\\frac{x^2}{2\\sigma^2}).\n",
    "  \\end{equation}"
   ]
  },
  {
   "cell_type": "code",
   "execution_count": null,
   "metadata": {},
   "outputs": [],
   "source": [
    "def gauss(sigma):\n",
    "    ### Please input your answer here.\n",
    "    return Gx, x"
   ]
  },
  {
   "cell_type": "code",
   "execution_count": null,
   "metadata": {
    "deletable": false,
    "editable": false
   },
   "outputs": [],
   "source": [
    "### The following code is used for evaluation.\n",
    "\n",
    "sigma = 4.0\n",
    "[gx, x] = gauss(sigma)\n",
    "\n",
    "plt.figure()\n",
    "plt.plot(x, gx, '.-')\n",
    "plt.show()"
   ]
  },
  {
   "cell_type": "markdown",
   "metadata": {
    "deletable": false,
    "editable": false
   },
   "source": [
    "**Q1.2** Implement a 2D Gaussian filter. The function should take an image as an input and return the result of the convolution of this image a with 2D Gaussian kernel of given variance $\\sigma^2$. See **Figure 1** for an illustration of Gaussian filtering. You can take advantage of the `convolve2d` function from the `scipy` library if you don't want to implement convolution yourself.\n",
    "\n",
    "*Hint: use the fact that the 2D Gaussian filter is separable to speed up computations.*"
   ]
  },
  {
   "cell_type": "markdown",
   "metadata": {
    "deletable": false,
    "editable": false
   },
   "source": [
    "**Figure 1: Left: Original image. Right: Image after applying a Gaussian filter with $\\sigma = 4.0$.**\n",
    "\n",
    "<img src=\"./source/not_smooth.png\" width=\"300\" align=left>\n",
    "<img src=\"./source/smooth.png\" width=\"300\" align=left>"
   ]
  },
  {
   "cell_type": "code",
   "execution_count": null,
   "metadata": {},
   "outputs": [],
   "source": [
    "def gaussianfilter(img, sigma):\n",
    "    ### Please input your answer here.\n",
    "    return outimage"
   ]
  },
  {
   "cell_type": "code",
   "execution_count": null,
   "metadata": {
    "deletable": false,
    "editable": false
   },
   "outputs": [],
   "source": [
    "### The following code is used for evaluation.\n",
    "\n",
    "def rgb2gray(rgb):\n",
    "    r, g, b = rgb[:,:,0], rgb[:,:,1], rgb[:,:,2]\n",
    "    gray = 0.2989 * r + 0.5870 * g + 0.1140 * b\n",
    "    return gray\n",
    "\n",
    "def run_one_img_q1_2(image_path):\n",
    "    img = rgb2gray(np.array(Image.open(image_path)))\n",
    "    smooth_img = gaussianfilter(img, sigma)\n",
    "\n",
    "    plt.figure()\n",
    "    ax1 = plt.subplot(1,2,1)\n",
    "    ax2 = plt.subplot(1,2,2)\n",
    "    plt.sca(ax1)\n",
    "    plt.imshow(img, cmap='gray', vmin=0, vmax=255)\n",
    "    plt.sca(ax2)\n",
    "    plt.imshow(smooth_img, cmap='gray', vmin=0, vmax=255)\n",
    "    plt.show()\n",
    "    \n",
    "run_one_img_q1_2('./source/night.png')\n",
    "run_one_img_q1_2('./source/kand.png')\n",
    "run_one_img_q1_2('./source/graf.png')"
   ]
  },
  {
   "cell_type": "markdown",
   "metadata": {
    "deletable": false,
    "editable": false
   },
   "source": [
    "**Q1.3** Implement a function `gaussdx` for creating a Gaussian derivative filter in 1D according to the following equation:\n",
    "\n",
    "\\begin{eqnarray}\n",
    "    \\frac{d}{dx}G&=&\\frac{d}{dx}\\frac{1}{\\sqrt{2\\pi}\\sigma}\\exp(-\\frac{x^2}{2\\sigma^2})\\\\\n",
    "    &=& -\\frac{1}{\\sqrt{2\\pi}\\sigma^3}x \\exp(-\\frac{x^2}{2\\sigma^2})\n",
    "\\end{eqnarray}"
   ]
  },
  {
   "cell_type": "code",
   "execution_count": null,
   "metadata": {},
   "outputs": [],
   "source": [
    "def gaussdx(sigma):\n",
    "    ### Please input your answer here.\n",
    "    return D, x"
   ]
  },
  {
   "cell_type": "markdown",
   "metadata": {
    "deletable": false,
    "editable": false
   },
   "source": [
    "The effect of applying a filter can be studied by observing its\n",
    "so-called \\textit{impulse response}. For this, create a test image\n",
    "in which only the central pixel has a non-zero value:\n",
    "\n",
    "```\n",
    "  imgImp = np.zeros((27,27))\n",
    "  imgImp[14,14] = 1.0\n",
    "```\n",
    "\n",
    "Now, create the following 1D filter kernels $G$ and $D$.\n",
    "\n",
    "```\n",
    "  sigma = 5.0\n",
    "  G = gauss(sigma)\n",
    "  D = gaussdx(sigma)\n",
    "```\n",
    "\n",
    "What happens when you apply the following filter combinations?\n",
    "- first $G$,  then $G^T$;\n",
    "- first $G$,  then $D^T$;\n",
    "- first $D$,  then $G^T$;\n",
    "- first $G^T$, then $D$;\n",
    "- first $D^T$, then $G$,\n",
    "\n",
    "where $G^T$ refers to the transpose of vector $G$.\n",
    "Visualize the results and put them in your report."
   ]
  },
  {
   "cell_type": "code",
   "execution_count": null,
   "metadata": {
    "deletable": false,
    "editable": false
   },
   "outputs": [],
   "source": [
    "### The following code is used for evaluation.\n",
    "\n",
    "img = np.zeros([27,27])\n",
    "img[13, 13] = 1.0\n",
    "plt.figure(), plt.imshow(img, cmap='gray')\n",
    "\n",
    "sigma = 7.0\n",
    "[G, x] = gauss(sigma)\n",
    "[D, x] = gaussdx(sigma)\n",
    "\n",
    "plt.figure()\n",
    "plt.plot(x, G, 'b.-')\n",
    "plt.plot(x, D, 'r-')\n",
    "plt.legend( ('gauss', 'gaussdx'))\n",
    "plt.show()\n",
    "\n",
    "G = G.reshape(1, G.size)\n",
    "D = D.reshape(1, D.size)\n",
    "\n",
    "plt.figure()\n",
    "plt.subplot(2,3,1)\n",
    "plt.imshow(conv2(conv2(img, G, 'same'), G.T, 'same') , cmap='gray')\n",
    "plt.subplot(2,3,2)\n",
    "plt.imshow(conv2(conv2(img, G, 'same'), D.T, 'same') , cmap='gray')\n",
    "plt.subplot(2,3,3)\n",
    "plt.imshow(conv2(conv2(img, D.T, 'same'), G, 'same') , cmap='gray')\n",
    "plt.subplot(2,3,4)\n",
    "plt.imshow(conv2(conv2(img, D, 'same'), D.T, 'same') , cmap='gray')\n",
    "plt.subplot(2,3,5)\n",
    "plt.imshow(conv2(conv2(img, D, 'same'), G.T, 'same') , cmap='gray')\n",
    "plt.subplot(2,3,6)\n",
    "plt.imshow(conv2(conv2(img, G.T, 'same'), D, 'same') , cmap='gray')\n",
    "plt.show()"
   ]
  },
  {
   "cell_type": "markdown",
   "metadata": {
    "deletable": false,
    "editable": false
   },
   "source": [
    "**Q1.4** Use the functions `gauss` and `gaussdx` in order to implement a function `gaussderiv` that returns the 2D Gaussian derivatives of an input image in x and y direction. Try the function on the three test images."
   ]
  },
  {
   "cell_type": "code",
   "execution_count": null,
   "metadata": {},
   "outputs": [],
   "source": [
    "def gaussderiv(img, sigma):\n",
    "    ### Please input your answer here.\n",
    "    return imgDx, imgDy"
   ]
  },
  {
   "cell_type": "code",
   "execution_count": null,
   "metadata": {
    "deletable": false,
    "editable": false
   },
   "outputs": [],
   "source": [
    "### The following code is used for evaluation.\n",
    "\n",
    "def run_one_img_q1_4(image_path):\n",
    "    img_c = np.array(Image.open(image_path)).astype('double')\n",
    "    img = rgb2gray(img_c)\n",
    "    [imgDx, imgDy] = gaussderiv(img, 7.0)\n",
    "\n",
    "    plt.figure()\n",
    "    ax1 = plt.subplot(1,3,1)\n",
    "    ax2 = plt.subplot(1,3,2)\n",
    "    ax3 = plt.subplot(1,3,3)\n",
    "    plt.sca(ax1)\n",
    "    plt.imshow(imgDx, cmap='gray')\n",
    "    plt.sca(ax2)\n",
    "    plt.imshow(imgDy, cmap='gray')\n",
    "    plt.sca(ax3)\n",
    "    imgmag = np.sqrt(imgDx**2 + imgDy**2)\n",
    "    plt.imshow(imgmag, cmap='gray')\n",
    "    plt.show()\n",
    "    \n",
    "run_one_img_q1_4('./source/night.png')\n",
    "run_one_img_q1_4('./source/kand.png')\n",
    "run_one_img_q1_4('./source/graf.png')"
   ]
  },
  {
   "cell_type": "markdown",
   "metadata": {
    "deletable": false,
    "editable": false
   },
   "source": [
    "### Question 2: Image Representations and Histogram Distances (10 points)"
   ]
  },
  {
   "cell_type": "markdown",
   "metadata": {
    "deletable": false,
    "editable": false
   },
   "source": [
    "**Q2.1** Implement a function `normalized_histogram`, which takes a gray-value image as input and returns a normalized histogram of pixel intensities. Compare your implementation with the built-in Python function `numpy.histogram`. Your histograms and the histograms computed with Python should be approximately the same, except for the overall scale, which will be different since `numpy.histogram` does not normalize its output."
   ]
  },
  {
   "cell_type": "code",
   "execution_count": null,
   "metadata": {},
   "outputs": [],
   "source": [
    "def normalized_histogram(img_gray, num_bins):\n",
    "    assert len(img_gray.shape) == 2, 'image dimension mismatch'\n",
    "    assert img_gray.dtype == 'float', 'incorrect image type'\n",
    "\n",
    "    ### Please input your answer here.\n",
    "    return hists, bins"
   ]
  },
  {
   "cell_type": "code",
   "execution_count": null,
   "metadata": {
    "deletable": false,
    "editable": false
   },
   "outputs": [],
   "source": [
    "### The following code is used for evaluation.\n",
    "\n",
    "img_color = np.array(Image.open('./source/model/obj100__0.png'))\n",
    "img_gray = rgb2gray(img_color.astype('double'))\n",
    "\n",
    "plt.figure()\n",
    "plt.subplot(1,3,1)\n",
    "plt.imshow(img_color)\n",
    "\n",
    "plt.subplot(1,3,2)\n",
    "num_bins_gray = 40\n",
    "hist_gray1, bin_gray1 = hist(img_gray.reshape(img_gray.size), num_bins_gray,(0,255))\n",
    "plt.bar((bin_gray1[0:-1] + bin_gray1[1:])/2, hist_gray1)\n",
    "\n",
    "plt.subplot(1,3,3)\n",
    "hist_gray2, bin_gray2 = normalized_histogram(img_gray, num_bins_gray)\n",
    "plt.bar((bin_gray2[0:-1] + bin_gray2[1:])/2, hist_gray2)\n",
    "plt.show()"
   ]
  },
  {
   "cell_type": "markdown",
   "metadata": {
    "deletable": false,
    "editable": false
   },
   "source": [
    "**Q2.2** Implement other histogram types discussed during the tutorial (refer to the introduction slides). Your implementation should extend the code provided in the functions `rgb_hist`, `rg_hist`, and `dxdy_hist`. Make sure that you are using the correct range of pixel values. For “RGB” the pixel intensities are in \\[0, 255\\], for “rg” the values are normalized to be in \\[0, 1\\]. For the derivatives histograms the values depend on the σ2 of the Gaussian filter; with σ = 7.0 you can assume that the values are in the range \\[−32, 32\\]."
   ]
  },
  {
   "cell_type": "code",
   "execution_count": null,
   "metadata": {},
   "outputs": [],
   "source": [
    "def rgb_hist(img_color, num_bins):\n",
    "    assert len(img_color.shape) == 3, 'image dimension mismatch'\n",
    "    assert img_color.dtype == 'float', 'incorrect image type'\n",
    "\n",
    "    # define a 3D histogram  with \"num_bins^3\" number of entries\n",
    "    hists = np.zeros((num_bins, num_bins, num_bins))\n",
    "    \n",
    "    # execute the loop for each pixel in the image \n",
    "    for i in range(img_color.shape[0]):\n",
    "        for i in range(img_color.shape[1]):\n",
    "            # increment a histogram bin which corresponds to the value of pixel i,j; h(R,G,B)\n",
    "            ### Please input your answer here.\n",
    "            pass\n",
    "\n",
    "    # normalize the histogram such that its integral (sum) is equal 1\n",
    "    ### Please input your answer here.\n",
    "\n",
    "    hists = hists.reshape(hists.size)\n",
    "    return hists\n",
    "\n",
    "#  compute joint histogram for r/g values\n",
    "#  note that r/g values should be in the range [0, 1];\n",
    "#  histogram should be normalized so that sum of all values equals 1\n",
    "#\n",
    "#  img_color - input color image\n",
    "#  num_bins - number of bins used to discretize each dimension, total number of bins in the histogram should be num_bins^2\n",
    "def rg_hist(img_color, num_bins):\n",
    "\n",
    "    assert len(img_color.shape) == 3, 'image dimension mismatch'\n",
    "    assert img_color.dtype == 'float', 'incorrect image type'\n",
    "  \n",
    "    # define a 2D histogram  with \"num_bins^2\" number of entries\n",
    "    hists = np.zeros((num_bins, num_bins))\n",
    "    \n",
    "    # Please input your answer here\n",
    "\n",
    "    hists = hists.reshape(hists.size)\n",
    "    return hists\n",
    "\n",
    "\n",
    "#  compute joint histogram of Gaussian partial derivatives of the image in x and y direction\n",
    "#  for sigma = 7.0, the range of derivatives is approximately [-30, 30]\n",
    "#  histogram should be normalized so that sum of all values equals 1\n",
    "#\n",
    "#  img_gray - input grayvalue image\n",
    "#  num_bins - number of bins used to discretize each dimension, total number of bins in the histogram should be num_bins^2\n",
    "#\n",
    "#  note: you can use the function gaussderiv.m from the filter exercise.\n",
    "def dxdy_hist(img_gray, num_bins):\n",
    "    assert len(img_gray.shape) == 2, 'image dimension mismatch'\n",
    "    assert img_gray.dtype == 'float', 'incorrect image type'\n",
    "\n",
    "    # compute the first derivatives\n",
    "    # ...\n",
    "\n",
    "    # quantize derivatives to \"num_bins\" number of values\n",
    "    # ...\n",
    "\n",
    "    # define a 2D histogram  with \"num_bins^2\" number of entries\n",
    "    hists = np.zeros((num_bins, num_bins))\n",
    "\n",
    "    # ...\n",
    "    \n",
    "    hists = hists.reshape(hists.size)\n",
    "    return hists"
   ]
  },
  {
   "cell_type": "code",
   "execution_count": null,
   "metadata": {
    "deletable": false,
    "editable": false
   },
   "outputs": [],
   "source": [
    "### The following code is used for evaluation.\n",
    "\n",
    "plt.figure()\n",
    "plt.subplot(1,2,1)\n",
    "plt.imshow(img_color)\n",
    "\n",
    "num_bins_color = 5\n",
    "plt.subplot(1,2,2)\n",
    "hist_rgb1 = rgb_hist(img_color.astype('double'), num_bins_color)\n",
    "plt.bar(np.array(range(1,hist_rgb1.size+1)),hist_rgb1)\n",
    "plt.show()\n",
    "\n",
    "plt.figure()\n",
    "plt.subplot(1,2,1)\n",
    "plt.imshow(img_color)\n",
    "\n",
    "plt.subplot(1,2,2)\n",
    "num_bins_rg = 5\n",
    "hist_rg = rg_hist(img_color.astype('double'), num_bins_rg)\n",
    "plt.bar(np.array(range(1,hist_rg.size+1)),hist_rg)\n",
    "plt.show()\n",
    "\n",
    "plt.figure()\n",
    "plt.subplot(1,2,1)\n",
    "plt.imshow(img_color)\n",
    "\n",
    "num_bins_dxdy = 10\n",
    "plt.subplot(1,2,2)\n",
    "hist_dxdy = dxdy_hist(img_gray.astype('double'), num_bins_dxdy)\n",
    "plt.bar(np.array(range(1,hist_dxdy.size+1)),hist_dxdy)\n",
    "plt.show()"
   ]
  },
  {
   "cell_type": "markdown",
   "metadata": {
    "deletable": false,
    "editable": false
   },
   "source": [
    "**Q2.3** Implement the histogram distance functions discussed during the tutorial (refer to the introdution slides), by filling the missing code in the functions `dist_l2`, `dist_intersect`, and `dist_chi2`."
   ]
  },
  {
   "cell_type": "code",
   "execution_count": null,
   "metadata": {},
   "outputs": [],
   "source": [
    "# Compute chi2 distance between x and y\n",
    "\n",
    "def dist_chi2(x,y):\n",
    "  # your code here\n",
    "\n",
    "# Compute l2 distance between x and y\n",
    "\n",
    "def dist_l2(x,y):\n",
    "  # your code here\n",
    "\n",
    "# Compute intersection distance between x and y\n",
    "# Return 1 - intersection, so that smaller values also correspond to more similart histograms\n",
    "\n",
    "def dist_intersect(x,y):\n",
    "  # your code here"
   ]
  },
  {
   "cell_type": "code",
   "execution_count": null,
   "metadata": {
    "deletable": false,
    "editable": false
   },
   "outputs": [],
   "source": [
    "### The following code is used for evaluation.\n",
    "\n",
    "def get_dist_by_name(x, y, dist_name):\n",
    "  if dist_name == 'chi2':\n",
    "    return dist_chi2(x,y)\n",
    "  elif dist_name == 'intersect':\n",
    "    return dist_intersect(x,y)\n",
    "  elif dist_name == 'l2':\n",
    "    return dist_l2(x,y)\n",
    "  else:\n",
    "    assert 'unknown distance: %s'%dist_name\n",
    "    \n",
    "def is_grayvalue_hist(hist_name):\n",
    "  if hist_name == 'grayvalue' or hist_name == 'dxdy':\n",
    "    return True\n",
    "  elif hist_name == 'rgb' or hist_name == 'rg':\n",
    "    return False\n",
    "  else:\n",
    "    assert False, 'unknown histogram type'\n",
    "    \n",
    "def get_hist_by_name(img1_gray, num_bins_gray, dist_name):\n",
    "  if dist_name == 'grayvalue':\n",
    "    return normalized_histogram(img1_gray, num_bins_gray)\n",
    "  elif dist_name == 'rgb':\n",
    "    return rgb_hist(img1_gray, num_bins_gray)\n",
    "  elif dist_name == 'rg':\n",
    "    return rg_hist(img1_gray, num_bins_gray)\n",
    "  elif dist_name == 'dxdy':\n",
    "    return dxdy_hist(img1_gray, num_bins_gray)\n",
    "  else:\n",
    "    assert 'unknown distance: %s'%dist_name\n",
    "\n",
    "image_files1 = ['./source/model/obj1__0.png']\n",
    "image_files2 = ['./source/model/obj91__0.png', './source/model/obj94__0.png']\n",
    "\n",
    "plt.figure()\n",
    "plt.subplot(1,3,1); plt.imshow(np.array(Image.open(image_files1[0])), vmin=0, vmax=255); plt.title(image_files1[0])\n",
    "plt.subplot(1,3,2); plt.imshow(np.array(Image.open(image_files2[0])), vmin=0, vmax=255); plt.title(image_files2[0])\n",
    "plt.subplot(1,3,3); plt.imshow(np.array(Image.open(image_files2[1])), vmin=0, vmax=255); plt.title(image_files2[1])\n",
    "plt.show()\n",
    "\n",
    "\n",
    "print('distance functions:')\n",
    "distance_types = ['l2', 'intersect', 'chi2']\n",
    "print(distance_types)\n",
    "print('\\n')\n",
    "\n",
    "print('histogram types:')\n",
    "hist_types = ['grayvalue', 'rgb', 'rg', 'dxdy']\n",
    "print(hist_types)\n",
    "print('\\n')\n",
    "\n",
    "num_bins_color = 30;\n",
    "num_bins_gray = 90;\n",
    "\n",
    "for imgidx1 in range(len(image_files1)):\n",
    "  img1_color = np.array(Image.open(image_files1[imgidx1]))\n",
    "  img1_gray = rgb2gray(img1_color.astype('double'))\n",
    "  img1_color = img1_color.astype('double')\n",
    "\n",
    "  for imgidx2 in range(len(image_files2)):\n",
    "    img2_color = np.array(Image.open(image_files2[imgidx2]))\n",
    "    img2_gray = rgb2gray(img2_color.astype('double'))\n",
    "    img2_color = img2_color.astype('double')\n",
    "\n",
    "    D = np.zeros( (len(distance_types), len(hist_types)) )\n",
    "\n",
    "    for didx in range(len(distance_types)):\n",
    "\n",
    "      for hidx in range(len(hist_types)):\n",
    "\n",
    "\n",
    "        if is_grayvalue_hist(hist_types[hidx]):\n",
    "          hist1 = get_hist_by_name(img1_gray, num_bins_gray, hist_types[hidx])\n",
    "          hist2 = get_hist_by_name(img2_gray, num_bins_gray, hist_types[hidx])\n",
    "\n",
    "          if len(hist1) == 2 and len(hist1[0]) > 1:\n",
    "            hist1 = hist1[0]\n",
    "          if len(hist2) == 2 and len(hist2[0]) > 1:\n",
    "            hist2 = hist2[0]\n",
    "\n",
    "          D[didx,hidx] = get_dist_by_name(hist1, hist2, distance_types[didx])\n",
    "        else:\n",
    "          hist1 = get_hist_by_name(img1_color, num_bins_color, hist_types[hidx])\n",
    "          hist2 = get_hist_by_name(img2_color, num_bins_color, hist_types[hidx])\n",
    "\n",
    "          if len(hist1) == 2 and len(hist1[0]) > 1:\n",
    "            hist1 = hist1[0]\n",
    "          if len(hist2) == 2 and len(hist2[0]) > 1:\n",
    "            hist2 = hist2[0]\n",
    "\n",
    "          D[didx,hidx] = get_dist_by_name(hist1, hist2, distance_types[didx])\n",
    "\n",
    "    print('compare image \"%s\" to \"%s\":'% (image_files1[imgidx1], image_files2[imgidx2]))\n",
    "    print(D)\n",
    "    print('\\n')\n"
   ]
  },
  {
   "cell_type": "markdown",
   "metadata": {
    "deletable": false,
    "editable": false
   },
   "source": [
    "### Question 3: Object Identification (10 points)"
   ]
  },
  {
   "cell_type": "markdown",
   "metadata": {
    "deletable": false,
    "editable": false
   },
   "source": [
    "**Q3.1** Having implemented different distance functions and image histograms, we can now test how suitable they are for retrieving images in a query-by-example scenario. Implement a function `find_best_match`, which takes a list of model images and a list of query images and for each query image returns the index of the closest model image. The function should take string parameters, which identify the distance function, the histogram function, and the number of histogram bins. See the comments at the beginning of `find_best_match` for more details. Aside from the indices of the best matching images, your implementation should also return a matrix that contains the distances between all pairs of model and query images."
   ]
  },
  {
   "cell_type": "code",
   "execution_count": null,
   "metadata": {},
   "outputs": [],
   "source": [
    "def find_best_match(model_images, query_images, dist_type, hist_type, num_bins):\n",
    "\n",
    "  hist_isgray = histogram_module.is_grayvalue_hist(hist_type)\n",
    "\n",
    "  model_hists = compute_histograms(model_images, hist_type, hist_isgray, num_bins)\n",
    "  query_hists = compute_histograms(query_images, hist_type, hist_isgray, num_bins)\n",
    "\n",
    "  D = np.zeros((len(model_images), len(query_images)))\n",
    "\n",
    "  # Your code here\n",
    "\n",
    "  return best_match, D\n",
    "\n",
    "def compute_histograms(image_list, hist_type, hist_isgray, num_bins):\n",
    "\n",
    "  image_hist = []\n",
    "\n",
    "  # Compute hisgoram for each image and add it at the bottom of image_hist\n",
    "  # Your code here\n",
    "\n",
    "  return image_hist"
   ]
  },
  {
   "cell_type": "code",
   "execution_count": null,
   "metadata": {
    "deletable": false,
    "editable": false
   },
   "outputs": [],
   "source": [
    "### The following code is used for evaluation.\n",
    "\n",
    "with open('./source/model.txt') as fp:\n",
    "    model_images = fp.readlines()\n",
    "model_images = [x.strip() for x in model_images] \n",
    "\n",
    "with open('./source/query.txt') as fp:\n",
    "    query_images = fp.readlines()\n",
    "query_images = [x.strip() for x in query_images] \n",
    "\n",
    "eval_dist_type = 'intersect';\n",
    "eval_hist_type = 'rg';\n",
    "eval_num_bins = 30;\n",
    "\n",
    "[best_match, D] = find_best_match(model_images, query_images, eval_dist_type, eval_hist_type, eval_num_bins)\n",
    "\n",
    "print(best_match)"
   ]
  },
  {
   "cell_type": "markdown",
   "metadata": {
    "deletable": false,
    "editable": false
   },
   "source": [
    "**Q3.2** Implement a function `show_neighbors` that takes a list of model images and a list of query images and for each query image visualizes several model images which are the closest to the query image according to the specified distance metric. Use the function `find_best_match` in your implementation. See **Figure 2** for an example output."
   ]
  },
  {
   "cell_type": "markdown",
   "metadata": {},
   "source": [
    "**Figure 2: A query image and the model images with color histograms similar to the query image.**\n",
    "\n",
    "<img src=\"./source/fig2.png\" width=\"600\" align=left>"
   ]
  },
  {
   "cell_type": "code",
   "execution_count": null,
   "metadata": {},
   "outputs": [],
   "source": [
    "def show_neighbors(model_images, query_images, dist_type, hist_type, num_bins):\n",
    "\n",
    "  plt.figure()\n",
    "  num_nearest = 5  # Show the top-5 neighbors\n",
    "\n",
    "  # Your code here"
   ]
  },
  {
   "cell_type": "code",
   "execution_count": null,
   "metadata": {
    "deletable": false,
    "editable": false
   },
   "outputs": [],
   "source": [
    "### The following code is used for evaluation.\n",
    "\n",
    "query_images_vis = [query_images[i] for i in np.array([0,4,9])]\n",
    "show_neighbors(model_images, query_images_vis, eval_dist_type, eval_hist_type, eval_num_bins)"
   ]
  },
  {
   "cell_type": "markdown",
   "metadata": {
    "deletable": false,
    "editable": false
   },
   "source": [
    "### Question 4: Performance Evaluation (10 points)"
   ]
  },
  {
   "cell_type": "markdown",
   "metadata": {
    "deletable": false,
    "editable": false
   },
   "source": [
    "**Q4.1** Sometimes instead of returning the best match for a query image, we would like to return all the model images with a distance to the query image below a certain threshold. It is, for example, the\n",
    "case when there are multiple images of the query object among the model images. In order to assess\n",
    "  the system performance in such scenario, we will use two quality measures: \\textit{precision} and\n",
    "  \\textit{recall}. Denoting the threshold on the distance between the images by $\\tau$ and using the following\n",
    "  notation:\n",
    "\n",
    "\n",
    "TP (True Positive) = number of correct matches among the images with distance \\textit{smaller} than $\\tau$,\n",
    "<br>\n",
    "FP (False Positive) = number of incorrect matches among the images with distance \\textit{smaller} than $\\tau$,\n",
    "<br>\n",
    "TN (True Negative) = number of incorrect matches among the images with distance \\textit{larger} than $\\tau$,\n",
    "<br>\n",
    "FN (False Negative) = number of correct matches among the images with distance \\textit{larger} than $\\tau$,\n",
    "\n",
    "\n",
    "precision is given by\n",
    "\\begin{equation}\n",
    "\\mbox{precision} = \\frac{\\mbox{TP}}{\\mbox{TP} + \\mbox{FP}},\n",
    "\\end{equation}\n",
    "and recall is given by\n",
    "\\begin{equation}\n",
    "\\mbox{recall} = \\frac{\\mbox{TP}}{\\mbox{TP} + \\mbox{FN}}.\n",
    "\\end{equation}\n",
    "\n",
    "For an ideal system, there should exist a value of $\\tau$ such that\n",
    "both precision and recall are equal to $1$, which corresponds to\n",
    "obtaining all the correct images without any false matches. However, in\n",
    "reality both quantities will be somewhere in the range between $0$ and\n",
    "$1$ and the goal is to make both of them as high as possible.\n",
    "\n",
    "Implement a function `plot_rpc` that you have to compute\n",
    "precision/recall pairs for a range of threshold values and then output\n",
    "the precision/recall curve (RPC), which gives a good summary of system\n",
    "performance at different levels of confidence. See **Figure 3** for an example of an RPC curve.\n",
    "\n",
    "**Q4.2** Plot RPC curves for different histogram types, distances, and number of bins. Submit a summary of your observations as part of your solution."
   ]
  },
  {
   "cell_type": "markdown",
   "metadata": {
    "deletable": false,
    "editable": false
   },
   "source": [
    "**Figure 3: Recall/precision curve evaluated on the provided set of model and query images.**\n",
    "\n",
    "<img src=\"./source/fig3.png\" width=\"400\" align=left>"
   ]
  },
  {
   "cell_type": "code",
   "execution_count": null,
   "metadata": {},
   "outputs": [],
   "source": [
    "# Compute and plot the recall/precision curve\n",
    "#\n",
    "# D - square matrix, D(i, j) = distance between model image i, and query image j\n",
    "#\n",
    "# Note: assume that query and model images are in the same order, i.e. correct answer for i-th query image is the i-th model image\n",
    "\n",
    "def plot_rpc(D, plot_color):\n",
    "  recall = []\n",
    "  precision = []\n",
    "  total_imgs = D.shape[1]\n",
    "\n",
    "  num_images = D.shape[0]\n",
    "  assert(D.shape[0] == D.shape[1])\n",
    "\n",
    "  labels = np.diag([1]*num_images)\n",
    "  \n",
    "  d = D.reshape(D.size)\n",
    "  l = labels.reshape(labels.size)\n",
    " \n",
    "  sortidx = d.argsort()\n",
    "  d = d[sortidx]\n",
    "  l = l[sortidx]\n",
    "\n",
    "  tp = 0\n",
    "  for idx in range(len(d)):\n",
    "    tp = tp + l[idx]\n",
    "\n",
    "    # Compute precision and recall values and append them to \"recall\" and \"precision\" vectors\n",
    "    # Your code here\n",
    "\n",
    "  plt.plot([1-precision[i] for i in range(len(precision))], recall, plot_color+'-')\n",
    "\n",
    "def compare_dist_rpc(model_images, query_images, dist_types, hist_type, num_bins, plot_colors):\n",
    "  assert len(plot_colors) == len(dist_types)\n",
    "  for idx in range(len(dist_types)):#\n",
    "    [best_match, D] = find_best_match(model_images, query_images, dist_types[idx], hist_type, num_bins)\n",
    "    plot_rpc(D, plot_colors[idx])\n",
    "    plt.axis([0, 1, 0, 1]);\n",
    "    plt.xlabel('1 - precision');\n",
    "    plt.ylabel('recall');\n",
    "    # legend(dist_types, 'Location', 'Best')\n",
    "    plt.legend( dist_types, loc='best')"
   ]
  },
  {
   "cell_type": "code",
   "execution_count": null,
   "metadata": {},
   "outputs": [],
   "source": [
    "with open('source/model.txt') as fp:\n",
    "    model_images = fp.readlines()\n",
    "model_images = [x.strip() for x in model_images] \n",
    "\n",
    "with open('source/query.txt') as fp:\n",
    "    query_images = fp.readlines()\n",
    "query_images = [x.strip() for x in query_images] \n",
    "\n",
    "eval_num_bins = 20;\n",
    "\n",
    "plt.figure()\n",
    "compare_dist_rpc(model_images, query_images, ['chi2', 'intersect', 'l2'], 'rg', eval_num_bins, ['r', 'g', 'b'])\n",
    "plt.title('RG histograms')\n",
    "plt.show()\n",
    "\n",
    "plt.figure()\n",
    "compare_dist_rpc(model_images, query_images, ['chi2', 'intersect', 'l2'], 'rgb', eval_num_bins, ['r', 'g', 'b'])\n",
    "plt.title('RGB histograms')\n",
    "plt.show()\n",
    "\n",
    "plt.figure()\n",
    "compare_dist_rpc(model_images, query_images, ['chi2', 'intersect', 'l2'], 'dxdy', eval_num_bins, ['r', 'g', 'b'])\n",
    "plt.title('dx/dy histograms')\n",
    "plt.show()"
   ]
  },
  {
   "cell_type": "markdown",
   "metadata": {
    "deletable": false,
    "editable": false
   },
   "source": [
    "Summarize your observations here:"
   ]
  },
  {
   "cell_type": "markdown",
   "metadata": {},
   "source": []
  },
  {
   "cell_type": "markdown",
   "metadata": {},
   "source": [
    "<!-- Input your answer here. -->\n"
   ]
  }
 ],
 "metadata": {
  "kernelspec": {
   "display_name": "Python 3",
   "language": "python",
   "name": "python3"
  },
  "language_info": {
   "codemirror_mode": {
    "name": "ipython",
    "version": 3
   },
   "file_extension": ".py",
   "mimetype": "text/x-python",
   "name": "python",
   "nbconvert_exporter": "python",
   "pygments_lexer": "ipython3",
   "version": "3.9.12"
  }
 },
 "nbformat": 4,
 "nbformat_minor": 4
}
